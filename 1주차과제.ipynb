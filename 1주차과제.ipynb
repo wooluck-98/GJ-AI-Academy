{
  "nbformat": 4,
  "nbformat_minor": 0,
  "metadata": {
    "colab": {
      "name": "Untitled0.ipynb",
      "provenance": [],
      "collapsed_sections": [],
      "authorship_tag": "ABX9TyOoowM1gGtV/2i3nSBenU+P",
      "include_colab_link": true
    },
    "kernelspec": {
      "name": "python3",
      "display_name": "Python 3"
    }
  },
  "cells": [
    {
      "cell_type": "markdown",
      "metadata": {
        "id": "view-in-github",
        "colab_type": "text"
      },
      "source": [
        "<a href=\"https://colab.research.google.com/github/wooluck-98/Homework/blob/master/1%EC%A3%BC%EC%B0%A8%EA%B3%BC%EC%A0%9C.ipynb\" target=\"_parent\"><img src=\"https://colab.research.google.com/assets/colab-badge.svg\" alt=\"Open In Colab\"/></a>"
      ]
    },
    {
      "cell_type": "markdown",
      "metadata": {
        "id": "nLMQIB8gU8zS",
        "colab_type": "text"
      },
      "source": [
        "#1. 언어 인공지능\n",
        "###Jonathan Intelligence\n",
        "\"Jonathan Intelligence는 고객이 원하는 AI 서비스 구축을 위한 고성능 딥러닝 알고리즘 라이브러리입니다. 자연어 처리(Natural Language Processing) 기술을 기반으로 텍스트가 내포한 단어, 감성, 주제, 사람, TPO 등 다양한 의미를 추출하는 고도화된 딥러닝 알고리즘 엔진들로 구성되어 있습니다. 사람의 감성을 다각도로 파악하기 위해 표정과 음성을 함께 인식하여 의미 분석과 함께 통합적 감성 추론이 가능한 독자적인 멀티모달 감성 인식 기술로 고도화해 나가고 있습니다. 사람의 말과 감성을 이해하는 지능형 프레임워크를 활용한 대화형 인터페이스에 적용되어 금융, 의료 챗봇부터 감성 대화 봇까지 매력적인 사용자 경험 구축에 널리 활용 가능합니다.\" \n",
        "\n",
        "**-대화 지능 Conversation Intelligence**\n",
        "\n",
        "시스템이 텍스트의 언어·억양·문맥을 이해하고\n",
        "나아가 사용자 발화를 이해하여 답변을 생성·매칭\n",
        "\n",
        "1. Data Transforming\n",
        "\n",
        " 텍스트를 벡터로 바꿔주는 시스템\n",
        "\n",
        "2. Understanding(Recognition)\n",
        "\n",
        " 텍스트의 언어·억양·문맥을 이해하는 딥러닝 기반 인공지능 시스템\n",
        "\n",
        "3. Analytic Response\n",
        "\n",
        " 상대방의 발화를 이해하여 답변을 생성하고 답변을 매칭하는 시스템\n",
        "\n",
        "**-서비스**\n",
        "\n",
        "Jonathan Datascope™\n",
        "\n",
        "Social Text Big Data Mining Tool\n",
        "웹 기반 빅데이터 키워드 분석 및\n",
        "트렌드 분석 툴으로 웹 공간에 산재한 텍스트 형식의 여론(댓글·SNS),지식(뉴스·사전·집단지성)을 수집하고\n",
        "수집된 텍스트의 Jonathan Intelligence 분석 및\n",
        "통계 기법 적용을 통한 인사이트를 제공합니다.\n",
        "또한 특정 키워드에 대한 여론\n",
        "(감정·언급량·연령·주제)분석 및\n",
        "연관된 키워드의 관계 분석이 가능합니다.\n",
        "\n",
        "(출처 - https://www.iacryl.com/acryl/sub/jonathan.php)\n",
        "\n",
        "//조나단은 조나단 브레인, 조나단 프레임, 조나단 툴로 구성된 인공지능 플랫폼이다. 사람의 말과 글, 표정, 감정을 이해하는 지능형 프레임워크로 챗봇, 휴머노이드와 같은 대화형 인터페이스에 적용되며, 상담, 악플차단, 쇼핑 등 다양한 분야에 활용될 수 있다.\n",
        "\n",
        "(공식 블로그 - https://blog.naver.com/skaibril/221397337775)"
      ]
    },
    {
      "cell_type": "markdown",
      "metadata": {
        "id": "fTot2Y3teP4H",
        "colab_type": "text"
      },
      "source": [
        "#2. 음성 인공지능\n",
        "###WAVIO 'See Sound'\n",
        "\n",
        "\"The world’s first smart home hearing system for the Deaf and hard of hearing\"\n",
        "\n",
        "1. Robust sound library\n",
        "\n",
        " Predicts a set of 75 unique household sounds based on a database of over 2 million sound clips.\n",
        "\n",
        "2. Always listening\n",
        "\n",
        " Listens for both common household and life-threatening sounds that could indicate an emergency. \n",
        "\n",
        "3. Total control\n",
        "\n",
        " Ability to customize notifications based on what sounds are important to you.\n",
        "\n",
        "4. Fully integrated\n",
        "\n",
        " Seamlessly connects with other assistive devices that may already be in the home.\n",
        " \n",
        "(출처 - https://www.see-sound.com/#)\n",
        "\n",
        "\n",
        "//화재가 발생해 나는 사이렌소리, 아이가 우는 소리, 무언가 파손되는 소리등 일상생활에서 우리는 쉽게 위험을 들을 수 있지만, 청각 장애인들은 잘 들을 수 없기 때문에 감지하기가 힘들다. 그래서 WAVIO는 청각 장애인을 위한 모바일 앱과 연동이 되는 스마트홈 디바이스를 개발해서 대처가 필요한 상황이 발생했을때, 이 소리들을 분석해서 메시지로 전송해준다. 데이터 베이스는 구글과의 협업을 통해 200만개의 유튜브 영상 콘텐츠의 사운드를 머신 러닝을 통해 학습시켰다."
      ]
    },
    {
      "cell_type": "markdown",
      "metadata": {
        "id": "LMXZWt5TiwwH",
        "colab_type": "text"
      },
      "source": [
        "#3. 이미지 인공지능\n",
        "###CheXNeXt\n",
        "\"미국 스탠퍼드대 연구팀은 흉부 X선(엑스선) 이미지를 판독해 십 수 개의 질환을 알아낼 수 있는 인공지능 알고리즘을 개발했다.\n",
        "\n",
        "연구를 이끈 스탠퍼드대 의대 방사선과 매튜 룬그렌 교수는 “책 읽는 인공지능이 문장을 읽는 것보다 훨씬 빠른 속도로 X선 이미지를 판독한다”면서 “촬영한 부위가 어디인지 알아내는 것뿐 아니라 14가지 병리학적 증상을 알아낼 수 있다”고 설명했다. CheXNeXt가 특별히 폐렴(Pneumonia)과 기흉(Pneumothorax), 무기폐(Atelectasis), 심장 비대(Cardiomegaly), 흉수(Effusion), 폐기종(Emphysema), 폐섬유화증(Fibrosis) 등 14가지 병리에 대해서 전문적으로 진단할 수 있도록 훈련받았기 때문이다.\"\n",
        "\n",
        "//이 이미지 분석 인공지능의 원리는 다음과 같다. CheXNeXt는 30,805 명의 고유 환자로 구성된 112,120 개의 정면 흉부 방사선 사진을 포함하는 방사선 사진의 가장 큰 공개 저장소 중 하나 인 ChestX-ray14 데이터 세트에 대해 학습시켰다. ChestX-ray14의 각 이미지는 방사선 보고서에서 자동 추출 방법을 사용하여 레이블을 지정했다.\n",
        "\n",
        "CheXNeXt의 교육 과정은 ChestX-ray14 데이터 세트에서 부분적으로 잘못된 레이블을 설명하기 위해 2 개의 연속 단계로 구성된다. 먼저, 14 개의 병리가 각각 이미지에 존재할 확률을 예측하기 위해 훈련 세트에 대해 네트워크 앙상블을 훈련시킨다. 이 앙상블의 예측은 훈련 및 튜닝 하는데 사용한다.\n",
        "\n",
        "(출처-https://stanfordmlgroup.github.io/projects/chexnext/)\n"
      ]
    },
    {
      "cell_type": "markdown",
      "metadata": {
        "id": "xLDLISqll2CH",
        "colab_type": "text"
      },
      "source": [
        "#4. 자율주행 인공지능\n",
        "###테슬라 FSD(Full Self-Driving)\n",
        "\n",
        "\"We designed and engineered our Full Self-Driving (FSD) Computer from the ground up to rapidly process neural networks — the foundation for how we train and develop Autopilot. While no Tesla cars are fully autonomous today and require active driver supervision, the FSD Computer is capable of delivering intelligent performance and control to enable a new level of safety and autonomy, without impacting cost or range.\"\n",
        "\n",
        "(출처-https://www.tesla.com/support/full-self-driving-computer)\n",
        "\n",
        "//인공신경망으로 주변 사물을 파악해서 자율주행을 한다. 테슬라는 실도로에서 데이터를 수집하고 있다. FSD 칩을 구매하여 자동차에 설치하게 되면 자동 차선변경, 오토파일럿 내비게이션, 오토파크 등 자율주행을 할 수 있게 만들어준다."
      ]
    }
  ]
}
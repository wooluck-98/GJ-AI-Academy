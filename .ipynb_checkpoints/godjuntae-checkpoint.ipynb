{
 "cells": [
  {
   "cell_type": "code",
   "execution_count": 1,
   "metadata": {},
   "outputs": [
    {
     "name": "stdin",
     "output_type": "stream",
     "text": [
      " 아주대\n"
     ]
    },
    {
     "name": "stdout",
     "output_type": "stream",
     "text": [
      "['1Yycm915qc58', 'qU14gsqVydby', 'rvarHJCpObTH', 'rKJ1O1uVhkce', 'cJ3KIKoljyco', '9VTOJBrZFeSf', 's7u2ZlJR74vm', 'BTZAwbVivarY', 'fegbD6KijdSi', 'ZlanjZStR2yj', 'Ed48BRsNJBSX', 'a0N1m7EsUVmH', 'XsRIDsyEXZGC', 'aBSwO90f5Xj9', 'h23FPDdjayXG', '6fIPcZmVfA9n', 'C1vyuOjIlOZS', 'DeC4KfWCO1kr', 'YxI9amidj8Ho', 'NOD9ocFY35NO', 'Z3GfQuoFJfb3', 'fYf1Xk8KjLwf', 'HGX1CWYOVTgs', 'OucWDWFebyt8', 'YdlEMI96SuoC', 'GMyVqXb0mL73', 'Jk92nCHhwWXV', 'tPdUboABC63G', '0VUYAnb0L0kf', 'wBRSPejsXNwZ', 'a4cxAmAerLR5', 'hslQ8kPWBtyR', 'NYSOXbgRH5w8', '4TH4unbZWQKF', 'sEjV4CMoI7L3', 'zKO8ofjYEmSb', 'MOY1Nlkqy5Ec', '23UCADqJktVd', 'rQ7tvsObxSzC', 'PWFCb3g5mFok', '9uxDQM5bLimv', 'yy8hHbljA7Qc', 'OyyX6yWbAZey', 'j5XHbbxqQg4Z', 'nvmUxfOrEjla', '5PZWdZL6Xi7r', 'bHaEJMPtiC2L', '8wjaJtTEkpUV', 'vEYEIeIdqRjt', '36uz2OkPuUBI', 'AqjC9rKZttFO', 'MjD8p12W6i7s', '7Cf3ZGxEPi5T', 'gHyQASSUAJhi', '4eNECupxtWVj', '8LgFqyDBGr2d', 'vzy6ZTTzHLz3', '9DVhf4qXTgwr', '57amkRmGHEUl', 'HILyjyjPR939', 'dFlnBCGV0cwM', 'xghw0kDMAI97', 'IhUgoSbPz3Qc', 'JIxeh6Z9IuUq', 'DMG4nbcm5hsw', 'bstSKK648kqb', 'vBbn76yucvl0', '350IDxlSa2qk', 'pMBvXOq5gyww', 'lQP4ewHSR5hs', 'TvHYJ8I1BOlq', '3hNYMM9tkKfj', '4SigtoIbNlSS', 'UsWwnwLmAWPj', '7gVvSdQWmngO', '7Qx9XRyGB5Cu', '6iHRQ53EO3LT', 'CZdOUoepWWkI', '8X2KeW2AgD7W', 'L33VYQfKALG9', '51gB2jFIPtP9', 'MILnJ4JQSupt', 'C7RvWP6tQBsY', '1c7MnuHDvgid', 'WzBMVn5ZnYVN', 'wxXYcx3goJWp', 'QStL3iFvzchh', 'VuiRao8VXpVW', 'lDMhBCV2qmlm', 'r9fk4tSlbARF', 'AGPkFcirqFHS', '8XFLP7Y5hc5s', 'ta6cpPMXkuaY', 'YVunDNnP3umQ', 'gIwIBBQyCXrc', '63auL5DyRnix', 'kR8bhM5bZNo5', 'wx6H66bWQyyl', 'TD60uItb84H4', 'dVPnzOzgNY0V']\n"
     ]
    }
   ],
   "source": [
    "from bs4 import BeautifulSoup\n",
    "import requests\n",
    "import pandas as pd\n",
    "import numpy as np\n",
    "\n",
    "search_input = input()\n",
    "hrefs = []\n",
    "\n",
    "headers = {\n",
    "    'User-Agent': 'Mozilla/5.0 (Windows NT 10.0; Win64; x64) AppleWebKit/537.36 (KHTML, like Gecko) Chrome/84.0.4147.135 Safari/537.36',\n",
    "}\n",
    "url = 'https://www.diningcode.com/list.php?query=' + search_input\n",
    "response = requests.get(url, headers=headers)\n",
    "soup = BeautifulSoup(response.text, 'html.parser')\n",
    "stores = soup.find_all(\"a\", class_=\"blink\")\n",
    "for store in stores:\n",
    "    hrefs.append(store['href'].split('rid=')[-1])\n",
    "for page in range(2,11):\n",
    "    headers = {\n",
    "        'user-agent': 'Mozilla/5.0 (Windows NT 10.0; Win64; x64) AppleWebKit/537.36 (KHTML, like Gecko) Chrome/84.0.4147.135 Safari/537.36',\n",
    "   }\n",
    "    data = {\n",
    "    'type': '',\n",
    "    'query': search_input,\n",
    "    'lat': '',\n",
    "    'lng': '',\n",
    "    'dis': '',\n",
    "    'page': str(page),\n",
    "    'chunk': '10',\n",
    "    'rn': ''\n",
    "    }\n",
    "    response = requests.post('https://www.diningcode.com/2018/ajax/list.php', headers=headers, data=data)\n",
    "    soup = BeautifulSoup(response.text, 'html.parser')\n",
    "    stores = soup.find_all(\"a\", class_=\"blink\")\n",
    "    for store in stores:\n",
    "        hrefs.append(store['href'].split('rid=')[-1])\n",
    "print(hrefs)"
   ]
  },
  {
   "cell_type": "code",
   "execution_count": 2,
   "metadata": {},
   "outputs": [
    {
     "name": "stdout",
     "output_type": "stream",
     "text": [
      "             Name                                                Tag  \\\n",
      "0          키와마루아지  점심식사 점심식사 점심식사 점심식사 점심식사 점심식사 점심식사 점심식사 점심식사 혼...   \n",
      "1             본수원  가족외식 가족외식 가족외식 식사모임 식사모임 점심식사 점심식사 저녁식사 저녁식사 회...   \n",
      "2             태화장  혼밥 점심식사 아침식사 서민적인 서민적인 서민적인 가성비좋은 가성비좋은 가성비좋은 ...   \n",
      "3            신라갈비  점심식사 점심식사 점심식사 식사모임 식사모임 식사모임 저녁식사 저녁식사 저녁식사 가...   \n",
      "4        이모네 손칼국수  점심식사 점심식사 점심식사 점심식사 점심식사 저녁식사 저녁식사 저녁식사 혼밥 혼밥 ...   \n",
      "..            ...                                                ...   \n",
      "96             싼큐                                                      \n",
      "97           스타벅스                                       시끌벅적한 시끌벅적한    \n",
      "98   이번지 깡통집 아주대점                                                      \n",
      "99          완벽한순간                                                예쁜    \n",
      "100           아주대  점심식사 점심식사 점심식사 점심식사 점심식사 점심식사 점심식사 점심식사 점심식사 점...   \n",
      "\n",
      "                     detail  \n",
      "0          아주대 | 라멘   돈코츠라멘  \n",
      "1            팔달구 | 왕갈비   갈비  \n",
      "2         아주대 | 돼지국밥   수육백반  \n",
      "3             수원 | 왕갈비   갈비  \n",
      "4          아주대 | 손칼국수   칼국수  \n",
      "..                      ...  \n",
      "96           아주대 | 버블티   쿠키  \n",
      "97   아주대 | 아이스아메리카노   아메리카노  \n",
      "98          아주대 | 삼겹살   고기집  \n",
      "99           아주대 | 타르트   카페  \n",
      "100                 details  \n",
      "\n",
      "[101 rows x 3 columns]\n"
     ]
    }
   ],
   "source": [
    "keyword_list = ['배달', '아침식사', '점심식사', '저녁식사', '식사모임', '술모임', '혼밥',\n",
    "                '혼술', '회식', '데이트', '기념일', '가족외식', '간식', '숨은맛집',\n",
    "                '서민적인', '캐주얼한', '고급스러운', '격식있는', '가성비좋은', '푸짐한',\n",
    "                '조용한', '시끌벅적한', '예쁜', '깔끔한', '이국적/이색적',\n",
    "                '경관/야경이좋은', '지역주민이찾는']\n",
    "conv_list = ['무료주차','발렛주차','주차불가','개별룸','대형룸','24시간영업','야외좌석(테라스)','놀이방','애완동물동반','콜키지무료']\n",
    "purpose_list = ['아침식사','점심식사','저녁식사','식사모임','가족외식','배달','아이동반','다이어트식당',\n",
    "                '실버푸드','술모임','차모임','혼카페','혼밥','혼술','접대','회식','데이트','기념일','간식']\n",
    "\n",
    "keyword_dict = {}\n",
    "\n",
    "front_url = 'https://www.diningcode.com/profile.php?rid='\n",
    "headers2 = {\n",
    "    'User-Agent': 'Mozilla/5.0 (Windows NT 10.0; Win64; x64) AppleWebKit/537.36 (KHTML, like Gecko) Chrome/84.0.4147.135 Safari/537.36',\n",
    "}\n",
    "f = open('res_data.csv', 'w')\n",
    "f.write('Name,Tag,detail\\n')\n",
    "tot_str=''\n",
    "for code in hrefs:\n",
    "    res_url = front_url + code\n",
    "    response = requests.post(res_url, headers=headers2)\n",
    "    soup = BeautifulSoup(response.text, 'html.parser')\n",
    "    res_name = soup.find('div',class_='tit-point').get_text().replace('\\n', '')\n",
    "#     print(res_name)\n",
    "    tag_list=[]\n",
    "    for tag in soup.find_all('p',class_= 'icon'):\n",
    "        tag_list.append(tag.get_text())\n",
    "    tags_str=''\n",
    "    for tags in tag_list:\n",
    "        tags = tags.split('(')\n",
    "        tag_name = tags[0]\n",
    "        tag_freq = tags[-1][0:-1]\n",
    "        if tag_name in purpose_list:\n",
    "            tag_freq = int(tag_freq) * 0.6\n",
    "        if tag_name in conv_list:\n",
    "            tag_freq = 0\n",
    "        if tag_name not in keyword_dict.keys():\n",
    "            keyword_dict[tag_name] = 5\n",
    "        else:\n",
    "            keyword_dict[tag_name] = keyword_dict[tag_name] + int(tag_freq)\n",
    "        if tag_name in keyword_list:\n",
    "            tags_str += (tag_name+' ')*int(tag_freq)\n",
    "            tot_str += tags_str\n",
    "    detail = soup.find('div',class_='s-list pic-grade').find('div',class_='btxt').get_text().strip().replace(',',' ')\n",
    "    f.write(res_name+','+tags_str+','+detail+'\\n')\n",
    "f.write(search_input+','+tot_str+','+'details''\\n')\n",
    "f.close()\n",
    "df_ori = pd.read_csv('res_data.csv',encoding='cp949')\n",
    "df_ori = df_ori.fillna(' ')\n",
    "print(df_ori)"
   ]
  },
  {
   "cell_type": "code",
   "execution_count": 5,
   "metadata": {},
   "outputs": [
    {
     "ename": "ModuleNotFoundError",
     "evalue": "No module named 'PIL'",
     "output_type": "error",
     "traceback": [
      "\u001b[1;31m---------------------------------------------------------------------------\u001b[0m",
      "\u001b[1;31mModuleNotFoundError\u001b[0m                       Traceback (most recent call last)",
      "\u001b[1;32m<ipython-input-5-0b6dae87eaed>\u001b[0m in \u001b[0;36m<module>\u001b[1;34m\u001b[0m\n\u001b[1;32m----> 1\u001b[1;33m \u001b[1;32mimport\u001b[0m \u001b[0mstylecloud\u001b[0m\u001b[1;33m\u001b[0m\u001b[1;33m\u001b[0m\u001b[0m\n\u001b[0m\u001b[0;32m      2\u001b[0m \u001b[1;33m\u001b[0m\u001b[0m\n\u001b[0;32m      3\u001b[0m \u001b[0mprint\u001b[0m\u001b[1;33m(\u001b[0m\u001b[0mkeyword_dict\u001b[0m\u001b[1;33m)\u001b[0m\u001b[1;33m\u001b[0m\u001b[1;33m\u001b[0m\u001b[0m\n\u001b[0;32m      4\u001b[0m \u001b[0ma\u001b[0m\u001b[1;33m=\u001b[0m\u001b[0mstylecloud\u001b[0m\u001b[1;33m.\u001b[0m\u001b[0mgen_stylecloud\u001b[0m\u001b[1;33m(\u001b[0m\u001b[0mtext\u001b[0m\u001b[1;33m=\u001b[0m\u001b[0mkeyword_dict\u001b[0m\u001b[1;33m,\u001b[0m \u001b[0micon_name\u001b[0m \u001b[1;33m=\u001b[0m \u001b[1;34m\"fas fa-fish\"\u001b[0m\u001b[1;33m,\u001b[0m \u001b[0mbackground_color\u001b[0m\u001b[1;33m=\u001b[0m\u001b[1;34m\"black\"\u001b[0m\u001b[1;33m,\u001b[0m\u001b[0mfont_path\u001b[0m\u001b[1;33m=\u001b[0m\u001b[1;34m'C:/Windows/Fonts/malgun.ttf'\u001b[0m\u001b[1;33m)\u001b[0m\u001b[1;33m\u001b[0m\u001b[1;33m\u001b[0m\u001b[0m\n",
      "\u001b[1;32m~\\Anaconda3\\lib\\site-packages\\stylecloud\\__init__.py\u001b[0m in \u001b[0;36m<module>\u001b[1;34m\u001b[0m\n\u001b[1;32m----> 1\u001b[1;33m \u001b[1;32mfrom\u001b[0m \u001b[1;33m.\u001b[0m\u001b[0mstylecloud\u001b[0m \u001b[1;32mimport\u001b[0m \u001b[0mgen_stylecloud\u001b[0m\u001b[1;33m\u001b[0m\u001b[1;33m\u001b[0m\u001b[0m\n\u001b[0m",
      "\u001b[1;32m~\\Anaconda3\\lib\\site-packages\\stylecloud\\stylecloud.py\u001b[0m in \u001b[0;36m<module>\u001b[1;34m\u001b[0m\n\u001b[1;32m----> 1\u001b[1;33m \u001b[1;32mfrom\u001b[0m \u001b[0micon_font_to_png\u001b[0m\u001b[1;33m.\u001b[0m\u001b[0micon_font\u001b[0m \u001b[1;32mimport\u001b[0m \u001b[0mIconFont\u001b[0m\u001b[1;33m\u001b[0m\u001b[1;33m\u001b[0m\u001b[0m\n\u001b[0m\u001b[0;32m      2\u001b[0m \u001b[1;32mfrom\u001b[0m \u001b[0mwordcloud\u001b[0m \u001b[1;32mimport\u001b[0m \u001b[0mWordCloud\u001b[0m\u001b[1;33m,\u001b[0m \u001b[0mSTOPWORDS\u001b[0m\u001b[1;33m,\u001b[0m \u001b[0mImageColorGenerator\u001b[0m\u001b[1;33m\u001b[0m\u001b[1;33m\u001b[0m\u001b[0m\n\u001b[0;32m      3\u001b[0m \u001b[1;32mimport\u001b[0m \u001b[0mcsv\u001b[0m\u001b[1;33m\u001b[0m\u001b[1;33m\u001b[0m\u001b[0m\n\u001b[0;32m      4\u001b[0m \u001b[1;32mimport\u001b[0m \u001b[0mos\u001b[0m\u001b[1;33m\u001b[0m\u001b[1;33m\u001b[0m\u001b[0m\n\u001b[0;32m      5\u001b[0m \u001b[1;32mfrom\u001b[0m \u001b[0mPIL\u001b[0m \u001b[1;32mimport\u001b[0m \u001b[0mImage\u001b[0m\u001b[1;33m\u001b[0m\u001b[1;33m\u001b[0m\u001b[0m\n",
      "\u001b[1;32m~\\Anaconda3\\lib\\site-packages\\icon_font_to_png\\__init__.py\u001b[0m in \u001b[0;36m<module>\u001b[1;34m\u001b[0m\n\u001b[0;32m      2\u001b[0m \u001b[1;32mfrom\u001b[0m \u001b[0m__future__\u001b[0m \u001b[1;32mimport\u001b[0m \u001b[0mabsolute_import\u001b[0m\u001b[1;33m,\u001b[0m \u001b[0municode_literals\u001b[0m\u001b[1;33m\u001b[0m\u001b[1;33m\u001b[0m\u001b[0m\n\u001b[0;32m      3\u001b[0m \u001b[1;33m\u001b[0m\u001b[0m\n\u001b[1;32m----> 4\u001b[1;33m \u001b[1;32mfrom\u001b[0m \u001b[0micon_font_to_png\u001b[0m\u001b[1;33m.\u001b[0m\u001b[0micon_font\u001b[0m \u001b[1;32mimport\u001b[0m \u001b[0mIconFont\u001b[0m  \u001b[1;31m# noqa\u001b[0m\u001b[1;33m\u001b[0m\u001b[1;33m\u001b[0m\u001b[0m\n\u001b[0m\u001b[0;32m      5\u001b[0m from icon_font_to_png.icon_font_downloader import (  # noqa\n\u001b[0;32m      6\u001b[0m     \u001b[0mFontAwesomeDownloader\u001b[0m\u001b[1;33m,\u001b[0m \u001b[0mOcticonsDownloader\u001b[0m\u001b[1;33m,\u001b[0m \u001b[0mAVAILABLE_ICON_FONTS\u001b[0m\u001b[1;33m\u001b[0m\u001b[1;33m\u001b[0m\u001b[0m\n",
      "\u001b[1;32m~\\Anaconda3\\lib\\site-packages\\icon_font_to_png\\icon_font.py\u001b[0m in \u001b[0;36m<module>\u001b[1;34m\u001b[0m\n\u001b[0;32m      7\u001b[0m \u001b[1;33m\u001b[0m\u001b[0m\n\u001b[0;32m      8\u001b[0m \u001b[1;32mimport\u001b[0m \u001b[0mtinycss\u001b[0m\u001b[1;33m\u001b[0m\u001b[1;33m\u001b[0m\u001b[0m\n\u001b[1;32m----> 9\u001b[1;33m \u001b[1;32mfrom\u001b[0m \u001b[0mPIL\u001b[0m \u001b[1;32mimport\u001b[0m \u001b[0mImage\u001b[0m\u001b[1;33m,\u001b[0m \u001b[0mImageFont\u001b[0m\u001b[1;33m,\u001b[0m \u001b[0mImageDraw\u001b[0m\u001b[1;33m\u001b[0m\u001b[1;33m\u001b[0m\u001b[0m\n\u001b[0m\u001b[0;32m     10\u001b[0m \u001b[1;32mfrom\u001b[0m \u001b[0msix\u001b[0m \u001b[1;32mimport\u001b[0m \u001b[0munichr\u001b[0m\u001b[1;33m\u001b[0m\u001b[1;33m\u001b[0m\u001b[0m\n\u001b[0;32m     11\u001b[0m \u001b[1;33m\u001b[0m\u001b[0m\n",
      "\u001b[1;31mModuleNotFoundError\u001b[0m: No module named 'PIL'"
     ]
    }
   ],
   "source": [
    "import stylecloud\n",
    "\n",
    "print(keyword_dict)\n",
    "a=stylecloud.gen_stylecloud(text=keyword_dict, icon_name = \"fas fa-fish\", background_color=\"black\",font_path='C:/Windows/Fonts/malgun.ttf')"
   ]
  },
  {
   "cell_type": "code",
   "execution_count": 4,
   "metadata": {},
   "outputs": [
    {
     "name": "stdout",
     "output_type": "stream",
     "text": [
      "         Name                detail\n",
      "100       아주대               details\n",
      "0      키와마루아지      아주대 | 라멘   돈코츠라멘\n",
      "11        만고쿠       아주대 | 연어덮밥   와규\n",
      "4    이모네 손칼국수      아주대 | 손칼국수   칼국수\n",
      "7      일인자감자탕        인계동 | 감자탕   뼈찜\n",
      "2         태화장     아주대 | 돼지국밥   수육백반\n",
      "14      푸드테라피      아주대 | 돌판삼겹살   밥집\n",
      "16   낙지한마리수제비        아주대 | 수제비   낙지\n",
      "25         따숩     아주대 | 함박스테이크   밥집\n",
      "58        꿍냐우              광교 | 쌀국수\n",
      "59        정옥집     아주대 | 냉동삼겹살   고기집\n",
      "1         본수원        팔달구 | 왕갈비   갈비\n",
      "3        신라갈비         수원 | 왕갈비   갈비\n",
      "54   고씨네 아주대점       아주대 | 카레   카레전문\n",
      "46        에스팟  아주대 | 샤브샤브   소고기샤브샤브\n",
      "24      멘야고코로      아주대 | 라멘   돈코츠라멘\n",
      "12    빕스 아주대점       아주대 | 샐러드바   폭립\n",
      "69     콩나물떡볶이     아주대 | 콩나물   즉석떡볶이\n",
      "19     우만동족발집        아주대 | 족발   불족발\n",
      "10      수원삼계탕      영통 | 삼계탕   돌솥삼계탕\n"
     ]
    }
   ],
   "source": [
    "from sklearn.feature_extraction.text import TfidfVectorizer\n",
    "from sklearn.metrics.pairwise import cosine_similarity\n",
    "from sklearn.feature_extraction.text import CountVectorizer\n",
    "\n",
    "tfidf_vec = TfidfVectorizer(ngram_range=(1, 2))\n",
    "tfidf_matrix = tfidf_vec.fit_transform(df_ori['Tag'])\n",
    "tags_similarity = cosine_similarity(tfidf_matrix, tfidf_matrix)\n",
    "similar_index = np.argsort(-tags_similarity)\n",
    "count_vec = CountVectorizer(ngram_range=(1, 2))\n",
    "count_matrix = count_vec.fit_transform(df_ori['Tag'])\n",
    "tags_similarity = cosine_similarity(count_matrix, count_matrix)\n",
    "similar_index = np.argsort(-tags_similarity)\n",
    "res_index = df_ori[df_ori['Name']==search_input].index.values\n",
    "similar_res = similar_index[res_index, :20]\n",
    "similar_res_index = similar_res.reshape(-1)\n",
    "\n",
    "print(df_ori.iloc[similar_res_index][['Name','detail']])"
   ]
  },
  {
   "cell_type": "code",
   "execution_count": null,
   "metadata": {},
   "outputs": [],
   "source": []
  },
  {
   "cell_type": "code",
   "execution_count": null,
   "metadata": {},
   "outputs": [],
   "source": []
  }
 ],
 "metadata": {
  "kernelspec": {
   "display_name": "Python 3",
   "language": "python",
   "name": "python3"
  },
  "language_info": {
   "codemirror_mode": {
    "name": "ipython",
    "version": 3
   },
   "file_extension": ".py",
   "mimetype": "text/x-python",
   "name": "python",
   "nbconvert_exporter": "python",
   "pygments_lexer": "ipython3",
   "version": "3.7.6"
  }
 },
 "nbformat": 4,
 "nbformat_minor": 4
}

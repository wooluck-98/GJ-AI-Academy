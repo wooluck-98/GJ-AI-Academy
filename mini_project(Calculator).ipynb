{
 "cells": [
  {
   "cell_type": "code",
   "execution_count": 1,
   "metadata": {},
   "outputs": [],
   "source": [
    "class Calculator:\n",
    "    def __init__(self):\n",
    "        self.result = 0\n",
    "        print(\"이것은 계산기다!\")\n",
    "   \n",
    "    def add(self, num):\n",
    "        self.result += num\n",
    "        print(num, \"을 더하기 했다!\")\n",
    "        print(\"결과는\", self.result)\n",
    "        \n",
    "    \n",
    "    def minus(self, num):\n",
    "        self.result -= num\n",
    "        print(num, \"을 빼기 했다!\")\n",
    "        print(\"결과는\",self.result)\n",
    "        \n",
    "   \n",
    "    def multiple(self, num):\n",
    "        self.result *= num\n",
    "        print(num, \"을 곱하기 했다!\")\n",
    "        print(\"결과는\",self.result)\n",
    "        \n",
    "     \n",
    "    def divide(self, num):\n",
    "        try:\n",
    "            self.result /= num\n",
    "            print(num, \"을 나누기 했다!\")\n",
    "            print(\"결과는\",self.result)\n",
    "        except:\n",
    "            print(\"0으로는 나눌 수가 없다!\")\n",
    "        \n"
   ]
  },
  {
   "cell_type": "code",
   "execution_count": 2,
   "metadata": {},
   "outputs": [
    {
     "name": "stdout",
     "output_type": "stream",
     "text": [
      "이것은 계산기다!\n"
     ]
    }
   ],
   "source": [
    "a = Calculator()"
   ]
  },
  {
   "cell_type": "code",
   "execution_count": 3,
   "metadata": {},
   "outputs": [
    {
     "name": "stdout",
     "output_type": "stream",
     "text": [
      "5 을 더하기 했다!\n",
      "결과는 5\n"
     ]
    }
   ],
   "source": [
    "a.add(5)"
   ]
  },
  {
   "cell_type": "code",
   "execution_count": 4,
   "metadata": {},
   "outputs": [
    {
     "name": "stdout",
     "output_type": "stream",
     "text": [
      "3 을 빼기 했다!\n",
      "결과는 2\n"
     ]
    }
   ],
   "source": [
    "a.minus(3)"
   ]
  },
  {
   "cell_type": "code",
   "execution_count": 5,
   "metadata": {},
   "outputs": [
    {
     "name": "stdout",
     "output_type": "stream",
     "text": [
      "5 을 곱하기 했다!\n",
      "결과는 10\n"
     ]
    }
   ],
   "source": [
    "a.multiple(5)"
   ]
  },
  {
   "cell_type": "code",
   "execution_count": 6,
   "metadata": {},
   "outputs": [
    {
     "name": "stdout",
     "output_type": "stream",
     "text": [
      "5 을 나누기 했다!\n",
      "결과는 2.0\n"
     ]
    }
   ],
   "source": [
    "a.divide(5)"
   ]
  },
  {
   "cell_type": "code",
   "execution_count": 7,
   "metadata": {},
   "outputs": [
    {
     "name": "stdout",
     "output_type": "stream",
     "text": [
      "0으로는 나눌 수가 없다!\n"
     ]
    }
   ],
   "source": [
    "a.divide(0)"
   ]
  }
 ],
 "metadata": {
  "kernelspec": {
   "display_name": "Python 3",
   "language": "python",
   "name": "python3"
  },
  "language_info": {
   "codemirror_mode": {
    "name": "ipython",
    "version": 3
   },
   "file_extension": ".py",
   "mimetype": "text/x-python",
   "name": "python",
   "nbconvert_exporter": "python",
   "pygments_lexer": "ipython3",
   "version": "3.7.6"
  }
 },
 "nbformat": 4,
 "nbformat_minor": 4
}
